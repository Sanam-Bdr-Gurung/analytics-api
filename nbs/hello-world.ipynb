{
 "cells": [
  {
   "cell_type": "code",
   "execution_count": null,
   "id": "36ffdf9b",
   "metadata": {},
   "outputs": [],
   "source": [
    "print(\"sss\")"
   ]
  },
  {
   "cell_type": "code",
   "execution_count": null,
   "id": "488adf3b",
   "metadata": {},
   "outputs": [],
   "source": []
  }
 ],
 "metadata": {
  "kernelspec": {
   "display_name": "venv",
   "language": "python",
   "name": "python3"
  },
  "language_info": {
   "name": "python",
   "version": "3.13.7"
  }
 },
 "nbformat": 4,
 "nbformat_minor": 5
}
